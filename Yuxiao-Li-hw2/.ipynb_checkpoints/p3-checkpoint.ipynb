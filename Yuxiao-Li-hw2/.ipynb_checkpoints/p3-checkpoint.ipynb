{
 "cells": [
  {
   "cell_type": "code",
   "execution_count": 25,
   "id": "995537fc-3e18-48cb-8362-f7b776557f72",
   "metadata": {
    "jupyter": {
     "source_hidden": true
    },
    "tags": []
   },
   "outputs": [],
   "source": [
    "import scipy.io\n",
    "import numpy as np\n",
    "import matplotlib.pyplot as plt\n",
    "import math\n",
    "import pandoc\n",
    "\n",
    "%matplotlib inline\n",
    "plt.rcParams['figure.figsize'] = (5.0, 4.0)"
   ]
  },
  {
   "cell_type": "code",
   "execution_count": 5,
   "id": "55ace0db-aa5f-4ebc-9876-30d418e7b987",
   "metadata": {
    "collapsed": true,
    "jupyter": {
     "outputs_hidden": true,
     "source_hidden": true
    },
    "tags": []
   },
   "outputs": [
    {
     "data": {
      "text/plain": [
       "({'__header__': b'MATLAB 5.0 MAT-file, Platform: PCWIN64, Created on: Sat Mar 12 01:32:03 2022',\n",
       "  '__version__': '1.0',\n",
       "  '__globals__': [],\n",
       "  'x_test': array([[ 0.61813826],\n",
       "         [-1.40450146],\n",
       "         [-0.66923105],\n",
       "         [-1.36148583],\n",
       "         [-1.20860466],\n",
       "         [ 0.97037348],\n",
       "         [ 0.58448587],\n",
       "         [-0.54870156],\n",
       "         [ 1.35066615],\n",
       "         [-1.39666176]]),\n",
       "  'y_test': array([[0.35146709],\n",
       "         [1.91340358],\n",
       "         [0.58062859],\n",
       "         [2.00124361],\n",
       "         [1.30416152],\n",
       "         [0.9365069 ],\n",
       "         [0.31441683],\n",
       "         [0.37422991],\n",
       "         [1.92898145],\n",
       "         [2.07800741]])},\n",
       " {'__header__': b'MATLAB 5.0 MAT-file, Platform: PCWIN64, Created on: Sat Mar 12 01:29:38 2022',\n",
       "  '__version__': '1.0',\n",
       "  '__globals__': [],\n",
       "  'x': array([[-1.02716075],\n",
       "         [ 1.41177835],\n",
       "         [ 1.37150084],\n",
       "         [-0.04387305],\n",
       "         [ 0.90084141],\n",
       "         [-1.07434098],\n",
       "         [-0.23471615],\n",
       "         [ 1.24720658],\n",
       "         [ 0.87662199],\n",
       "         [ 1.37847728]]),\n",
       "  'y': array([[1.13292957],\n",
       "         [1.76097394],\n",
       "         [2.05557922],\n",
       "         [0.21892147],\n",
       "         [0.90088282],\n",
       "         [1.28307862],\n",
       "         [0.17665791],\n",
       "         [1.50163775],\n",
       "         [0.84620506],\n",
       "         [1.73579295]])})"
      ]
     },
     "execution_count": 5,
     "metadata": {},
     "output_type": "execute_result"
    }
   ],
   "source": [
    "test_data = scipy.io.loadmat('./p3/test_data.mat') \n",
    "training_data = scipy.io.loadmat('./p3/training_data.mat') \n",
    "test_data,training_data"
   ]
  },
  {
   "cell_type": "code",
   "execution_count": 6,
   "id": "a1f6a22c-53ca-47cf-a048-79d2efc1acd0",
   "metadata": {
    "jupyter": {
     "source_hidden": true
    },
    "tags": []
   },
   "outputs": [],
   "source": [
    "n = 10\n",
    "x_test = test_data['x_test']\n",
    "y_test = test_data['y_test']\n",
    "x = training_data['x']\n",
    "y = training_data['y']"
   ]
  },
  {
   "cell_type": "code",
   "execution_count": 7,
   "id": "83cfa049-7cfd-48e7-9b97-0ce59f5ff2b0",
   "metadata": {
    "collapsed": true,
    "jupyter": {
     "outputs_hidden": true,
     "source_hidden": true
    },
    "tags": []
   },
   "outputs": [
    {
     "data": {
      "text/plain": [
       "((10, 1), (10, 1))"
      ]
     },
     "execution_count": 7,
     "metadata": {},
     "output_type": "execute_result"
    }
   ],
   "source": [
    "x.shape, y.shape"
   ]
  },
  {
   "cell_type": "code",
   "execution_count": 8,
   "id": "90ac862e-9444-44a7-8e29-dbced250c6ba",
   "metadata": {
    "collapsed": true,
    "jupyter": {
     "outputs_hidden": true,
     "source_hidden": true
    },
    "tags": []
   },
   "outputs": [
    {
     "data": {
      "text/plain": [
       "array([[ 1.00000000e+00, -1.02716075e+00,  1.05505922e+00,\n",
       "        -1.08371542e+00,  1.11314995e+00, -1.14338394e+00,\n",
       "         1.17443911e+00, -1.20633777e+00,  1.23910281e+00],\n",
       "       [ 1.00000000e+00,  1.41177835e+00,  1.99311810e+00,\n",
       "         2.81384097e+00,  3.97251975e+00,  5.60831735e+00,\n",
       "         7.91770099e+00,  1.11780388e+01,  1.57809131e+01],\n",
       "       [ 1.00000000e+00,  1.37150084e+00,  1.88101457e+00,\n",
       "         2.57981307e+00,  3.53821580e+00,  4.85266596e+00,\n",
       "         6.65543546e+00,  9.12793536e+00,  1.25189711e+01],\n",
       "       [ 1.00000000e+00, -4.38730538e-02,  1.92484485e-03,\n",
       "        -8.44488218e-05,  3.70502771e-06, -1.62550880e-07,\n",
       "         7.13160351e-09, -3.12885225e-10,  1.37272303e-11],\n",
       "       [ 1.00000000e+00,  9.00841407e-01,  8.11515240e-01,\n",
       "         7.31046530e-01,  6.58556985e-01,  5.93255400e-01,\n",
       "         5.34429029e-01,  4.81435799e-01,  4.33697302e-01],\n",
       "       [ 1.00000000e+00, -1.07434098e+00,  1.15420855e+00,\n",
       "        -1.24001355e+00,  1.33219738e+00, -1.43123424e+00,\n",
       "         1.53763360e+00, -1.65194280e+00,  1.77474985e+00],\n",
       "       [ 1.00000000e+00, -2.34716152e-01,  5.50916721e-02,\n",
       "        -1.29309053e-02,  3.03509233e-03, -7.12385193e-04,\n",
       "         1.67208311e-04, -3.92464915e-05,  9.21178546e-06],\n",
       "       [ 1.00000000e+00,  1.24720658e+00,  1.55552424e+00,\n",
       "         1.94006006e+00,  2.41965567e+00,  3.01781046e+00,\n",
       "         3.76383305e+00,  4.69427733e+00,  5.85473355e+00],\n",
       "       [ 1.00000000e+00,  8.76621989e-01,  7.68466111e-01,\n",
       "         6.73654290e-01,  5.90540164e-01,  5.17680493e-01,\n",
       "         4.53810103e-01,  3.97819915e-01,  3.48737685e-01],\n",
       "       [ 1.00000000e+00,  1.37847728e+00,  1.90019961e+00,\n",
       "         2.61938199e+00,  3.61075855e+00,  4.97734863e+00,\n",
       "         6.86116199e+00,  9.45795592e+00,  1.30375773e+01]])"
      ]
     },
     "execution_count": 8,
     "metadata": {},
     "output_type": "execute_result"
    }
   ],
   "source": [
    "x2 = x.reshape(-1,)\n",
    "x2 = np.vander(x2,9,increasing = True)\n",
    "x2"
   ]
  },
  {
   "cell_type": "code",
   "execution_count": 9,
   "id": "cba8624f-1335-4457-8415-5475e58b6792",
   "metadata": {
    "collapsed": true,
    "jupyter": {
     "outputs_hidden": true,
     "source_hidden": true
    },
    "tags": []
   },
   "outputs": [
    {
     "data": {
      "text/plain": [
       "array([[-1.02699658e-02],\n",
       "       [-5.80775725e+00],\n",
       "       [-1.12079928e+01],\n",
       "       [ 4.84610021e+01],\n",
       "       [ 4.37106884e+00],\n",
       "       [-7.33055826e+01],\n",
       "       [ 2.23566803e+01],\n",
       "       [ 3.08368732e+01],\n",
       "       [-1.47027585e+01]])"
      ]
     },
     "execution_count": 9,
     "metadata": {},
     "output_type": "execute_result"
    }
   ],
   "source": [
    "theta_hat = np.dot(np.linalg.inv(np.dot(x2.T, x2)), np.dot(x2.T,y))\n",
    "theta_hat"
   ]
  },
  {
   "cell_type": "code",
   "execution_count": 10,
   "id": "a060f7c2-db38-456a-8ebd-ca15c3d97bbf",
   "metadata": {
    "collapsed": true,
    "jupyter": {
     "outputs_hidden": true,
     "source_hidden": true
    },
    "tags": []
   },
   "outputs": [
    {
     "data": {
      "text/plain": [
       "array([[1.13292583],\n",
       "       [1.74267108],\n",
       "       [1.90761471],\n",
       "       [0.21889622],\n",
       "       [0.8968044 ],\n",
       "       [1.28308155],\n",
       "       [0.17667373],\n",
       "       [1.50624847],\n",
       "       [0.84974697],\n",
       "       [1.89799615]])"
      ]
     },
     "execution_count": 10,
     "metadata": {},
     "output_type": "execute_result"
    }
   ],
   "source": [
    "y2 = np.dot(x2,theta_hat)\n",
    "y2"
   ]
  },
  {
   "cell_type": "markdown",
   "id": "80b6bf20-ea04-44b6-be66-545415de15bd",
   "metadata": {},
   "source": [
    "# problem 3"
   ]
  },
  {
   "cell_type": "markdown",
   "id": "58104ba0-578e-4ede-8bae-4d1276f56bf4",
   "metadata": {},
   "source": [
    "### (a1）\n",
    "#### solution: $y$ is [10,1] matrix, while $x$ is a [10,9] vandermonde matrix."
   ]
  },
  {
   "cell_type": "markdown",
   "id": "4397dc5b-3ffc-4928-946a-1c99acede509",
   "metadata": {},
   "source": [
    "### (a2)"
   ]
  },
  {
   "cell_type": "code",
   "execution_count": 166,
   "id": "51f79ef7-c2a6-4e80-8aa3-ea45b961b611",
   "metadata": {
    "jupyter": {
     "source_hidden": true
    },
    "tags": []
   },
   "outputs": [
    {
     "data": {
      "image/png": "[encoded data removed]",
      "text/plain": [
       "<Figure size 360x288 with 1 Axes>"
      ]
     },
     "metadata": {
      "needs_background": "light"
     },
     "output_type": "display_data"
    }
   ],
   "source": [
    "plt.xlabel('x')\n",
    "plt.ylabel('y')\n",
    "plt.xlim(xmax=1.5,xmin=-1.5)\n",
    "plt.ylim(ymax=2.5,ymin=-0.5)\n",
    "plt.scatter(x, y, c='blue', alpha=0.4, label='data')\n",
    "x3 = np.arange(-1.5, 1.5, 0.03)\n",
    "plt.plot(x3, np.poly1d(np.flip(theta_hat.reshape(n-1,)))(x3),linewidth = '1',color='red',label='target_function')\n",
    "plt.legend()\n",
    "plt.show()"
   ]
  },
  {
   "cell_type": "markdown",
   "id": "ad3785bd-6991-4b69-a53c-f848674c2212",
   "metadata": {},
   "source": [
    "## (a3)"
   ]
  },
  {
   "cell_type": "markdown",
   "id": "af9ef7d4-48cb-447c-9d65-14988ebe4541",
   "metadata": {},
   "source": [
    "#### solution: the test error is 177.23"
   ]
  },
  {
   "cell_type": "code",
   "execution_count": 11,
   "id": "bcb27442-50fc-42a6-96ca-443c11fcae20",
   "metadata": {
    "jupyter": {
     "source_hidden": true
    },
    "tags": []
   },
   "outputs": [
    {
     "data": {
      "text/plain": [
       "177.23120892457663"
      ]
     },
     "execution_count": 11,
     "metadata": {},
     "output_type": "execute_result"
    }
   ],
   "source": [
    "x_test = np.vander(x_test.reshape(n,),9,increasing = True)\n",
    "test_error = np.linalg.norm(np.dot(x_test,theta_hat)-y_test)\n",
    "test_error"
   ]
  },
  {
   "cell_type": "code",
   "execution_count": 170,
   "id": "2ac4084b-f93d-4c47-b75c-69499c99792c",
   "metadata": {
    "jupyter": {
     "source_hidden": true
    },
    "tags": []
   },
   "outputs": [],
   "source": [
    "from sklearn.model_selection import KFold"
   ]
  },
  {
   "cell_type": "code",
   "execution_count": null,
   "id": "36c37df2-f648-4c75-a308-715e8f90dd53",
   "metadata": {
    "collapsed": true,
    "jupyter": {
     "outputs_hidden": true,
     "source_hidden": true
    },
    "tags": []
   },
   "outputs": [
    {
     "data": {
      "text/plain": [
       "[0.9628305300465275,\n",
       " 0.5759207970475628,\n",
       " 0.2936301997470229,\n",
       " 0.24985160183253785,\n",
       " 0.2165450184176406,\n",
       " 0.19710412035188685,\n",
       " 0.1961509014429975,\n",
       " 0.20538331218551437,\n",
       " 0.2149773881186759,\n",
       " 0.27269545152547836,\n",
       " 0.4050377287879928,\n",
       " 0.5300326030446257,\n",
       " 0.6031681799446295,\n",
       " 0.6518304697053141,\n",
       " 0.7773562272834382,\n",
       " 0.8448437715540166]"
      ]
     },
     "execution_count": 210,
     "metadata": {},
     "output_type": "execute_result"
    }
   ],
   "source": [
    "kf = KFold(n_splits=5)\n",
    "candidates = [1e-05,1e-04,1e-03,1e-02,1e-01, .30, .5, .8, 1, 2, 5, 10, 15, 20, 50, 100]\n",
    "val_error = []\n",
    "\n",
    "for candidate in candidates:\n",
    "    error = 0\n",
    "    \n",
    "    for train_index, test_index in kf.split(x):\n",
    "        x_train_val, y_train_val = x[train_index], y[train_index]\n",
    "        x_test_val, y_test_val = x[test_index], y[test_index]\n",
    "        x_train_val = np.vander(x_train_val.reshape(-1,),9,increasing = True)\n",
    "        x_test_val = np.vander(x_test_val.reshape(-1,),9,increasing = True)\n",
    "        \n",
    "        # l2-regularized least squares\n",
    "        theta_hat_val = np.dot(np.linalg.inv(x_train_val.T.dot(x_train_val) + candidate*np.eye(9)), x_train_val.T.dot(y_train_val))\n",
    "        test_error_val = np.linalg.norm(x_test_val.dot(theta_hat_val) - y_test_val)\n",
    "        error += test_error_val\n",
    "  \n",
    "    val_error.append(error)\n",
    "\n",
    "val_error = [error/5 for error in val_error]\n",
    "val_error"
   ]
  },
  {
   "cell_type": "markdown",
   "id": "2ae21fb2-a404-44c3-98ca-10fef6c596ad",
   "metadata": {},
   "source": [
    "## (b1)"
   ]
  },
  {
   "cell_type": "markdown",
   "id": "282cadf5-1210-41e9-be97-d04cf25e59f1",
   "metadata": {},
   "source": [
    "####  the plot of validation error versus the value of $\\lambda$ is as follow:"
   ]
  },
  {
   "cell_type": "code",
   "execution_count": 211,
   "id": "b4b20644-6c10-44a3-a947-d5e088c6628e",
   "metadata": {
    "jupyter": {
     "source_hidden": true
    },
    "tags": []
   },
   "outputs": [
    {
     "data": {
      "image/png": "[encoded data removed]",
      "text/plain": [
       "<Figure size 360x288 with 1 Axes>"
      ]
     },
     "metadata": {
      "needs_background": "light"
     },
     "output_type": "display_data"
    }
   ],
   "source": [
    "plt.xlabel(r'$\\log(\\lambda)$')\n",
    "plt.ylabel('validation error')\n",
    "x_xlim = [math.log(x) for x in candidates]\n",
    "plt.plot(x_xlim, val_error ,linewidth = '1',color='red',label='target_function')\n",
    "plt.show()"
   ]
  },
  {
   "cell_type": "code",
   "execution_count": 19,
   "id": "c23989f8-5518-4af0-b7d9-ab6a02715585",
   "metadata": {
    "jupyter": {
     "source_hidden": true
    },
    "tags": []
   },
   "outputs": [],
   "source": [
    "#  b2: Plot the fitted curve using the four choices of λ and calculate the test error\n",
    "\n",
    "def b2(lam, x, y):\n",
    "    theta = np.dot(np.linalg.inv(x2.T.dot(x2) + lam * np.eye(9)), x2.T.dot(y))\n",
    "    test_error = np.linalg.norm(np.dot(x_test,theta)-y_test)\n",
    "  \n",
    "    plt.xlabel('x')\n",
    "    plt.ylabel('y')\n",
    "    plt.xlim(xmax=1.5,xmin=-1.5)\n",
    "    plt.ylim(ymax=2.5,ymin=-0.5)\n",
    "    plt.scatter(x, y, c='blue', alpha=0.4, label='data')\n",
    "    x3 = np.arange(-1.5, 1.5, 0.03)\n",
    "    plt.plot(x3, np.poly1d(np.flip(theta.reshape(n-1,)))(x3),linewidth = '1',color='red',label='target_function')\n",
    "    plt.legend()\n",
    "    plt.title(r\"$\\lambda=$\"+str(lam), fontweight=\"bold\") \n",
    "    plt.show()\n",
    "\n",
    "    return test_error"
   ]
  },
  {
   "cell_type": "markdown",
   "id": "28cdbeb6-0de2-4c6c-a8f9-89e5d7448def",
   "metadata": {},
   "source": [
    "## (b2)"
   ]
  },
  {
   "cell_type": "markdown",
   "id": "c936f6c9-b552-4b0e-9fa4-6ce527863c1b",
   "metadata": {},
   "source": [
    "#### the fitted curve using the four choices of $\\lambda$ is as follow seperately:"
   ]
  },
  {
   "cell_type": "code",
   "execution_count": 20,
   "id": "f36506a3-8302-454b-9e60-aae5bf1b1025",
   "metadata": {
    "jupyter": {
     "source_hidden": true
    },
    "tags": []
   },
   "outputs": [
    {
     "data": {
      "image/png": "[encoded data removed]",
      "text/plain": [
       "<Figure size 360x288 with 1 Axes>"
      ]
     },
     "metadata": {
      "needs_background": "light"
     },
     "output_type": "display_data"
    },
    {
     "data": {
      "image/png": "[encoded data removed]",
      "text/plain": [
       "<Figure size 360x288 with 1 Axes>"
      ]
     },
     "metadata": {
      "needs_background": "light"
     },
     "output_type": "display_data"
    },
    {
     "data": {
      "image/png": "[encoded data removed]",
      "text/plain": [
       "<Figure size 360x288 with 1 Axes>"
      ]
     },
     "metadata": {
      "needs_background": "light"
     },
     "output_type": "display_data"
    },
    {
     "data": {
      "image/png": "[encoded data removed]",
      "text/plain": [
       "<Figure size 360x288 with 1 Axes>"
      ]
     },
     "metadata": {
      "needs_background": "light"
     },
     "output_type": "display_data"
    }
   ],
   "source": [
    "test_error_list = []\n",
    "lambdas = [0.01, 0.1, 0.8, 5]\n",
    "\n",
    "for i in lambdas:\n",
    "    error = b2(i, x, y)\n",
    "    test_error_list.append(error)"
   ]
  },
  {
   "cell_type": "markdown",
   "id": "62ad7846-3d74-4457-857e-7aac33a65fdf",
   "metadata": {},
   "source": [
    "## (b3)"
   ]
  },
  {
   "cell_type": "markdown",
   "id": "52892b0f-f7ac-4c5b-89ab-c86f3bb1b353",
   "metadata": {},
   "source": [
    "#### the test error for λ = 0.01, 0.1, 0.8, and 5 is : [1.21, 3.69, 4.11, 3.49]"
   ]
  },
  {
   "cell_type": "code",
   "execution_count": 21,
   "id": "07e94c85-893a-414f-8cbd-cf6c6e386902",
   "metadata": {
    "collapsed": true,
    "jupyter": {
     "outputs_hidden": true,
     "source_hidden": true
    },
    "tags": []
   },
   "outputs": [
    {
     "data": {
      "text/plain": [
       "[1.2062745601077267, 3.6942640055544027, 4.114075375491323, 3.4910467726449057]"
      ]
     },
     "execution_count": 21,
     "metadata": {},
     "output_type": "execute_result"
    }
   ],
   "source": [
    "# b3\n",
    "test_error_list"
   ]
  },
  {
   "cell_type": "markdown",
   "id": "e15923ac-2c48-402a-804b-f0f5e878f921",
   "metadata": {},
   "source": [
    "##### P.S : for more detials, please see \"p3.ipynb\" in my folder."
   ]
  }
 ],
 "metadata": {
  "kernelspec": {
   "display_name": "Python 3 (ipykernel)",
   "language": "python",
   "name": "python3"
  },
  "language_info": {
   "codemirror_mode": {
    "name": "ipython",
    "version": 3
   },
   "file_extension": ".py",
   "mimetype": "text/x-python",
   "name": "python",
   "nbconvert_exporter": "python",
   "pygments_lexer": "ipython3",
   "version": "3.9.7"
  }
 },
 "nbformat": 4,
 "nbformat_minor": 5
}
